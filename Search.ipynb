{
  "cells": [
    {
      "cell_type": "markdown",
      "metadata": {
        "colab_type": "text",
        "id": "view-in-github"
      },
      "source": [
        "<a href=\"https://colab.research.google.com/github/ykkim77/python-13th-week/blob/main/python_13th_week.ipynb\" target=\"_parent\"><img src=\"https://colab.research.google.com/assets/colab-badge.svg\" alt=\"Open In Colab\"/></a>"
      ]
    },
    {
      "cell_type": "markdown",
      "metadata": {
        "id": "_17Zhg4BXgzQ"
      },
      "source": [
        "# 검색"
      ]
    },
    {
      "cell_type": "markdown",
      "metadata": {},
      "source": [
        "## 순차 검색"
      ]
    },
    {
      "cell_type": "markdown",
      "metadata": {},
      "source": [
        "![1](./images/1.jpg)"
      ]
    },
    {
      "cell_type": "markdown",
      "metadata": {},
      "source": [
        "![2](./images/2.jpg)"
      ]
    },
    {
      "cell_type": "markdown",
      "metadata": {},
      "source": [
        "![3](./images/3.jpg)"
      ]
    },
    {
      "cell_type": "markdown",
      "metadata": {},
      "source": [
        "- 인덱스 기반 순차 탐색법"
      ]
    },
    {
      "cell_type": "code",
      "execution_count": 15,
      "metadata": {},
      "outputs": [],
      "source": [
        "# 순차 탐색\n",
        "\n",
        "def linearSearch(array, n, x):    # X : 찾고자 하는 데이터\n",
        "\n",
        "   \n",
        "    for i in range(0, n):   # 인덱스의 처음부터 마지막까지 검색\n",
        "        if (array[i] == x):\n",
        "            return i\n",
        "    return -1         # 데이터 검색에 실패하면 -1을 반환\n",
        "\n"
      ]
    },
    {
      "cell_type": "code",
      "execution_count": null,
      "metadata": {},
      "outputs": [],
      "source": [
        "array = [2, 4, 0, 1, 9]\n",
        "x = 1\n",
        "n = len(array)\n",
        "result = linearSearch(array, n, x)\n",
        "if(result == -1):\n",
        "    print(\"해당 데이터가 존재하지 않음\")\n",
        "else:\n",
        "    print(\"데이터 검색 성공, 데이터 위치: \", result)"
      ]
    },
    {
      "cell_type": "markdown",
      "metadata": {},
      "source": [
        "## 이진검색"
      ]
    },
    {
      "cell_type": "markdown",
      "metadata": {},
      "source": [
        "![4](./images/4.jpg)"
      ]
    },
    {
      "cell_type": "markdown",
      "metadata": {},
      "source": [
        "![5](./images/5.jpg)"
      ]
    },
    {
      "cell_type": "markdown",
      "metadata": {},
      "source": [
        "![6](./images/6.jpg)"
      ]
    },
    {
      "cell_type": "markdown",
      "metadata": {},
      "source": [
        "![7](./images/7.jpg)"
      ]
    },
    {
      "cell_type": "markdown",
      "metadata": {},
      "source": [
        "![8](./images/8.jpg)"
      ]
    },
    {
      "cell_type": "markdown",
      "metadata": {},
      "source": [
        "- 반복문을 사용한 이진 검색 함수"
      ]
    },
    {
      "cell_type": "code",
      "execution_count": 4,
      "metadata": {},
      "outputs": [],
      "source": [
        "def binarySearch(array, x, low, high):\n",
        "\n",
        "    # low 포인터와 high 포인터가 만날때까지 반복한다.\n",
        "    while low <= high:\n",
        "\n",
        "        mid = low + (high - low)//2     # mid 설정\n",
        "\n",
        "        if array[mid] == x:            # 찾고자 하는 데이터가 mid인 경우\n",
        "            return mid\n",
        "\n",
        "        elif array[mid] < x:         #찾고자 하는 데이터가 mid 보다 큰 경우\n",
        "            low = mid + 1           # low를 mid+1로 재설정\n",
        "\n",
        "        else:\n",
        "            high = mid - 1        # 찾고자 하는 데이터가 mid 보다 작은 경우\n",
        "\n",
        "    return -1"
      ]
    },
    {
      "cell_type": "code",
      "execution_count": null,
      "metadata": {},
      "outputs": [],
      "source": [
        "array = [3, 4, 5, 6, 7, 8, 9]\n",
        "x = 4\n",
        "\n",
        "result = binarySearch(array, x, 0, len(array)-1)\n",
        "\n",
        "if result != -1:\n",
        "    print(\"데이터 검색 성공, 데이터 위치:  \" + str(result))\n",
        "else:\n",
        "    print(\"검색 실패\")"
      ]
    },
    {
      "cell_type": "markdown",
      "metadata": {},
      "source": [
        "- 재귀함수를 이용한 이진 검색 함수"
      ]
    },
    {
      "cell_type": "code",
      "execution_count": null,
      "metadata": {},
      "outputs": [],
      "source": [
        "def binarySearch(array, x, low, high):\n",
        "\n",
        "    if high >= low:\n",
        "\n",
        "        mid = low + (high - low)//2     # mid 설정\n",
        "\n",
        "       \n",
        "        if array[mid] == x:    # 찾고자 하는 데이터가 mid인경우\n",
        "            return mid\n",
        "\n",
        "        \n",
        "        elif array[mid] > x:        # 왼쪽 부분에서 검색\n",
        "            return binarySearch(array, x, low, mid-1)\n",
        "\n",
        "        \n",
        "        else:                      # 오른쪽 부분에서 검색\n",
        "            return binarySearch(array, x, mid + 1, high)\n",
        "\n",
        "    else:\n",
        "        return -1"
      ]
    },
    {
      "cell_type": "code",
      "execution_count": null,
      "metadata": {},
      "outputs": [],
      "source": [
        "array = [3, 4, 5, 6, 7, 8, 9]\n",
        "x = 4\n",
        "\n",
        "result = binarySearch(array, x, 0, len(array)-1)\n",
        "\n",
        "if result != -1:\n",
        "    print(\"Element is present at index \" + str(result))\n",
        "else:\n",
        "    print(\"Not found\")"
      ]
    }
  ],
  "metadata": {
    "colab": {
      "authorship_tag": "ABX9TyNfYEYHL4wCNbBmxfR+rFfd",
      "collapsed_sections": [],
      "include_colab_link": true,
      "name": "python-13th-week.ipynb",
      "provenance": []
    },
    "interpreter": {
      "hash": "d9a022479d48104f838a877ceb317cbfeb74180a02cf5c3b74635300627f5263"
    },
    "kernelspec": {
      "display_name": "Python 3.9.4 64-bit",
      "language": "python",
      "name": "python3"
    },
    "language_info": {
      "codemirror_mode": {
        "name": "ipython",
        "version": 3
      },
      "file_extension": ".py",
      "mimetype": "text/x-python",
      "name": "python",
      "nbconvert_exporter": "python",
      "pygments_lexer": "ipython3",
      "version": "3.9.4"
    }
  },
  "nbformat": 4,
  "nbformat_minor": 0
}

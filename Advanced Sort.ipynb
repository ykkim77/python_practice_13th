{
  "cells": [
    {
      "cell_type": "markdown",
      "metadata": {
        "colab_type": "text",
        "id": "view-in-github"
      },
      "source": [
        "<a href=\"https://colab.research.google.com/github/ykkim77/python-13th-week/blob/main/python_13th_week.ipynb\" target=\"_parent\"><img src=\"https://colab.research.google.com/assets/colab-badge.svg\" alt=\"Open In Colab\"/></a>"
      ]
    },
    {
      "cell_type": "markdown",
      "metadata": {
        "id": "_17Zhg4BXgzQ"
      },
      "source": [
        "# 고급 정렬"
      ]
    },
    {
      "cell_type": "markdown",
      "metadata": {},
      "source": [
        "## 합병정렬"
      ]
    },
    {
      "cell_type": "markdown",
      "metadata": {},
      "source": [
        "![merge1](./images/merge1.jpg)"
      ]
    },
    {
      "cell_type": "markdown",
      "metadata": {},
      "source": [
        "- 합병 정렬 함수 구현"
      ]
    },
    {
      "cell_type": "code",
      "execution_count": 15,
      "metadata": {},
      "outputs": [],
      "source": [
        "def mergeSort(array):\n",
        "    if len(array) > 1:\n",
        "\n",
        "        #  데이터 셋을 균등하게 분할\n",
        "        r = len(array)//2\n",
        "        L = array[:r]\n",
        "        M = array[r:]\n",
        "\n",
        "        # 분할된 부분을 재귀적으로 호출\n",
        "        print(\"재귀함수 호출--->\",L)\n",
        "        mergeSort(L)\n",
        "        print(\"재귀함수 호출--->\",M)        \n",
        "        mergeSort(M)\n",
        "\n",
        "        i = j = k = 0\n",
        "\n",
        "        while i < len(L) and j < len(M):    # 분할된 각 배열을 비교할 요소가 있는 경우\n",
        "            if L[i] < M[j]:             # 왼쪽 배열의 요소가 작은 경우\n",
        "                array[k] = L[i]\n",
        "                i += 1\n",
        "                print(\"왼쪽 배열이 작은 경우->\", i,j,k)\n",
        "            else:           # 오른쪽 배열의 요소가 작은 경우\n",
        "                array[k] = M[j]\n",
        "                j += 1\n",
        "                print(\"오른쪽 배열이 작은 경우->\", i,j,k)\n",
        "            k += 1\n",
        "            print(\"왼쪽 배열 및 오른쪽 배열을 한번 비교하는 것이 종료됨\",i,j,k)\n",
        "\n",
        "\n",
        "        while i < len(L):     # 양쪽 배열이 다 비교되고 난뒤, 왼쪽 배열의 데이터가 남은 경우\n",
        "            array[k] = L[i]\n",
        "            i += 1\n",
        "            k += 1\n",
        "            print(\"양쪽 배열이 다 비교되고 난뒤, 왼쪽 배열의 데이터가 남은 경우\",i,j,k)\n",
        "            \n",
        "\n",
        "        while j < len(M):     # 양쪽 배열이 다 비교되고 난뒤, 오른쪽 배열의 데이터가 남은 경우\n",
        "            array[k] = M[j]\n",
        "            j += 1\n",
        "            k += 1\n",
        "            print(\"양쪽 배열이 다 비교되고 난뒤, 오른쪽 배열의 데이터가 남은 경우\",i,j,k)\n"
      ]
    },
    {
      "cell_type": "code",
      "execution_count": 2,
      "metadata": {},
      "outputs": [],
      "source": [
        "def printList(array):\n",
        "    for i in range(len(array)):\n",
        "        print(array[i], end=\" \")\n",
        "    print()\n"
      ]
    },
    {
      "cell_type": "code",
      "execution_count": 16,
      "metadata": {},
      "outputs": [
        {
          "name": "stdout",
          "output_type": "stream",
          "text": [
            "재귀함수 호출---> [4, 2]\n",
            "재귀함수 호출---> [4]\n",
            "재귀함수 호출---> [2]\n",
            "오른쪽 배열이 작은 경우-> 0 1 0\n",
            "왼쪽 배열 및 오른쪽 배열을 한번 비교하는 것이 종료됨 0 1 1\n",
            "양쪽 배열이 다 비교되고 난뒤, 왼쪽 배열의 데이터가 남은 경우 1 1 2\n",
            "재귀함수 호출---> [1, 3]\n",
            "재귀함수 호출---> [1]\n",
            "재귀함수 호출---> [3]\n",
            "왼쪽 배열이 작은 경우-> 1 0 0\n",
            "왼쪽 배열 및 오른쪽 배열을 한번 비교하는 것이 종료됨 1 0 1\n",
            "양쪽 배열이 다 비교되고 난뒤, 오른쪽 배열의 데이터가 남은 경우 1 1 2\n",
            "오른쪽 배열이 작은 경우-> 0 1 0\n",
            "왼쪽 배열 및 오른쪽 배열을 한번 비교하는 것이 종료됨 0 1 1\n",
            "왼쪽 배열이 작은 경우-> 1 1 1\n",
            "왼쪽 배열 및 오른쪽 배열을 한번 비교하는 것이 종료됨 1 1 2\n",
            "오른쪽 배열이 작은 경우-> 1 2 2\n",
            "왼쪽 배열 및 오른쪽 배열을 한번 비교하는 것이 종료됨 1 2 3\n",
            "양쪽 배열이 다 비교되고 난뒤, 왼쪽 배열의 데이터가 남은 경우 2 2 4\n",
            "1 2 3 4 \n"
          ]
        }
      ],
      "source": [
        "array = [4,2,1,3]\n",
        "\n",
        "mergeSort(array)\n",
        "\n",
        "printList(array)"
      ]
    },
    {
      "cell_type": "markdown",
      "metadata": {},
      "source": [
        "## 퀵정렬 구현"
      ]
    },
    {
      "cell_type": "markdown",
      "metadata": {},
      "source": [
        "![merge-2](./images/merge-2.jpg)\n",
        "![merge__3](./images/merge__3.jpg)"
      ]
    },
    {
      "cell_type": "code",
      "execution_count": 42,
      "metadata": {},
      "outputs": [],
      "source": [
        "# Quick sort in Python\n",
        "\n",
        "# function to find the partition position\n",
        "def partition(array, low, high):\n",
        "\n",
        "  # pivot에 \n",
        "  pivot = array[high]\n",
        "\n",
        "  i = low - 1\n",
        "\n",
        "  for j in range(low, high):\n",
        "    if array[j] <= pivot:\n",
        "      # 피벗보다 작은 데이터를 찾는다. 이때 second pointer도 같이 선정하게 되면, 왼쪽 인덱스부터 순차적으로 second pointer를 설정할 수 있음\n",
        "      i += 1\n",
        "\n",
        "      # second pointer 와 피벗보다 작은 데이터를 교체\n",
        "      (array[i], array[j]) = (array[j], array[i])\n",
        "  \n",
        "  i += 1   # 마지막 sencod pointer 설정\n",
        "  \n",
        "  (array[i], array[high]) = (array[high], array[i])\n",
        " \n",
        "  return i\n",
        "\n",
        "# function to perform quicksort\n",
        "def quickSort(array, low, high):\n",
        "  if low < high:\n",
        "\n",
        "    # 배열을 분할하기 위해 첫번째로 설정된 피벗의 위치를 얻어냄\n",
        "    pi = partition(array, low, high)\n",
        "\n",
        "    # 피벗을 기준으로 왼쪽을 재귀적으로 퀵정렬\n",
        "    quickSort(array, low, pi - 1)\n",
        "\n",
        "    # 피벗을 기준으로 오른쪽을 재귀적으로 퀵정렬\n",
        "    quickSort(array, pi + 1, high)"
      ]
    },
    {
      "cell_type": "code",
      "execution_count": 44,
      "metadata": {},
      "outputs": [
        {
          "name": "stdout",
          "output_type": "stream",
          "text": [
            "Unsorted Array\n",
            "[8, 9, 10, 11, 2, 1, 3]\n",
            "Sorted Array in Ascending Order:\n",
            "[1, 2, 3, 8, 9, 10, 11]\n"
          ]
        }
      ],
      "source": [
        "data = [8,9,10,11,2,1,3]\n",
        "print(\"Unsorted Array\")\n",
        "print(data)\n",
        "\n",
        "size = len(data)\n",
        "\n",
        "quickSort(data, 0, size - 1)\n",
        "\n",
        "print('Sorted Array in Ascending Order:')\n",
        "print(data)"
      ]
    }
  ],
  "metadata": {
    "colab": {
      "authorship_tag": "ABX9TyNfYEYHL4wCNbBmxfR+rFfd",
      "collapsed_sections": [],
      "include_colab_link": true,
      "name": "python-13th-week.ipynb",
      "provenance": []
    },
    "interpreter": {
      "hash": "d9a022479d48104f838a877ceb317cbfeb74180a02cf5c3b74635300627f5263"
    },
    "kernelspec": {
      "display_name": "Python 3.9.4 64-bit",
      "language": "python",
      "name": "python3"
    },
    "language_info": {
      "codemirror_mode": {
        "name": "ipython",
        "version": 3
      },
      "file_extension": ".py",
      "mimetype": "text/x-python",
      "name": "python",
      "nbconvert_exporter": "python",
      "pygments_lexer": "ipython3",
      "version": "3.9.4"
    }
  },
  "nbformat": 4,
  "nbformat_minor": 0
}
